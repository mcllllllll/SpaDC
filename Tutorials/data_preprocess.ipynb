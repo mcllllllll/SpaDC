{
 "cells": [
  {
   "cell_type": "markdown",
   "metadata": {},
   "source": [
    "<h2> Get sequence <h2>"
   ]
  },
  {
   "cell_type": "code",
   "execution_count": 1,
   "metadata": {},
   "outputs": [],
   "source": [
    "import scanpy as sc\n",
    "import pandas as pd\n",
    "import numpy as np\n",
    "import SpaDC \n",
    "\n",
    "def chr_split(x):\n",
    "    chr_special = {'GL456233.1':'chrX_GL456233_random', 'GL456212.1':'chr1_GL456212_random', 'JH584304.1':'chrUn_JH584304', 'GL456216.1':'chr4_GL456216_random', 'JH584292.1':'chr4_JH584292_random', 'JH584295.1':'chr4_JH584295_random'}\n",
    "    chr, start, end = x.split('-')\n",
    "    if chr in chr_special:\n",
    "        chr = chr_special[chr]\n",
    "    return chr, start, end\n",
    "\n",
    "misar = sc.read_h5ad('/home/nas2/biod/machuanlong/data/MISAR_seq/MISAR_seq_mouse_E15_brain_ATAC_data.h5ad')\n",
    "ATAC = sc.read_h5ad('/home/nas2/biod/machuanlong/data/P22/ATAC/adata_peaks_normalized.h5ad')"
   ]
  },
  {
   "cell_type": "markdown",
   "metadata": {},
   "source": [
    "<h3> MISAR <h3>"
   ]
  },
  {
   "cell_type": "code",
   "execution_count": 3,
   "metadata": {},
   "outputs": [
    {
     "name": "stdout",
     "output_type": "stream",
     "text": [
      "保存成功\n"
     ]
    }
   ],
   "source": [
    "index = misar.var_names\n",
    "index = pd.DataFrame(chr_split(x) for x in index)\n",
    "\n",
    "seq, _ = SpaDC.make_bed_seqs_from_df(index, '/home/nas2/biod/machuanlong/data/Genome/mm10.fa', 1344)\n",
    "\n",
    "file = open('/home/nas2/biod/machuanlong/data/MISAR_seq/seqs.txt','a')\n",
    "file.write('seq\\n')\n",
    "for i in range(len(seq)):\n",
    "    s = seq[i] + '\\n'\n",
    "    file.write(s)\n",
    "file.close()"
   ]
  },
  {
   "cell_type": "markdown",
   "metadata": {},
   "source": [
    "<h3> P22 <h3>"
   ]
  },
  {
   "cell_type": "code",
   "execution_count": 4,
   "metadata": {},
   "outputs": [
    {
     "name": "stderr",
     "output_type": "stream",
     "text": [
      "Adding 265 Ns to chr4_JH584295_random:1163-1976\n"
     ]
    },
    {
     "name": "stdout",
     "output_type": "stream",
     "text": [
      "保存成功\n"
     ]
    }
   ],
   "source": [
    "index = ATAC.var_names\n",
    "index = pd.DataFrame(chr_split(x) for x in index)\n",
    "\n",
    "seq, _ = SpaDC.make_bed_seqs_from_df(index, '/home/nas2/biod/machuanlong/data/Genome/mm10.fa', 1344)\n",
    "\n",
    "file = open('/home/nas2/biod/machuanlong/data/P22/ATAC/seqs.txt','a')\n",
    "file.write('seq\\n')\n",
    "for i in range(len(seq)):\n",
    "    s = seq[i] + '\\n'\n",
    "    file.write(s)\n",
    "file.close()"
   ]
  },
  {
   "cell_type": "markdown",
   "metadata": {},
   "source": [
    "<h2> Integrate <h2>"
   ]
  },
  {
   "cell_type": "code",
   "execution_count": 5,
   "metadata": {},
   "outputs": [],
   "source": [
    "index = ATAC.var_names\n",
    "\n",
    "index = pd.DataFrame(chr_split(x) for x in index)\n",
    "\n",
    "index.to_csv('/home/nas2/biod/machuanlong/data/integrate/ATAC.bed',sep='\\t',header=False, index=False)\n",
    "\n",
    "H3K27ac = sc.read_h5ad('/home/nas2/biod/machuanlong/data/P22/H3K27ac/adata_peaks_normalized.h5ad')\n",
    "\n",
    "index = H3K27ac.var_names\n",
    "\n",
    "index = pd.DataFrame(chr_split(x) for x in index)\n",
    "\n",
    "index.to_csv('/home/nas2/biod/machuanlong/data/integrate/H3K27ac.bed',sep='\\t',header=False, index=False)"
   ]
  },
  {
   "cell_type": "code",
   "execution_count": 6,
   "metadata": {},
   "outputs": [
    {
     "name": "stdout",
     "output_type": "stream",
     "text": [
      "保存成功\n"
     ]
    }
   ],
   "source": [
    "import pybedtools\n",
    "\n",
    "ATAC_bed = pybedtools.BedTool('/home/nas2/biod/machuanlong/data/integrate/ATAC.bed')\n",
    "H3K27ac_bed =   pybedtools.BedTool('/home/nas2/biod/machuanlong/data/integrate/H3K27ac.bed')                  \n",
    "\n",
    "overlap = ATAC_bed.intersect(H3K27ac_bed,wo=True)\n",
    "\n",
    "overlap.moveto('/home/nas2/biod/machuanlong/data/integrate/overlap.bed')\n",
    "\n",
    "df = pd.read_csv('/home/nas2/biod/machuanlong/data/integrate/overlap.bed', sep='\\t', header=None)\n",
    "\n",
    "df['start'] = ''\n",
    "df['end'] = ''\n",
    "\n",
    "df['start'] = np.where(df.iloc[:, 1] <= df.iloc[:, 4], df.iloc[:, 1], df.iloc[:, 4])\n",
    "df['end'] = np.where(df.iloc[:, 2] >= df.iloc[:, 5], df.iloc[:, 2], df.iloc[:, 5])\n",
    "index = df.loc[:, [0, 'start', 'end']]\n",
    "\n",
    "seq, _ = SpaDC.make_bed_seqs_from_df(index, '/home/nas2/biod/machuanlong/data/Genome/mm10.fa', 1344)\n",
    "\n",
    "file = open('/home/nas2/biod/machuanlong/data/integrate/overlap_seqs.txt','a')\n",
    "file.write('seq\\n')\n",
    "for i in range(len(seq)):\n",
    "    s = seq[i] + '\\n'\n",
    "    file.write(s)\n",
    "file.close()"
   ]
  },
  {
   "cell_type": "code",
   "execution_count": 7,
   "metadata": {},
   "outputs": [],
   "source": [
    "import anndata as ad\n",
    "import scipy.sparse\n",
    "\n",
    "ATAC_matrix = np.array(ATAC.X.todense().transpose())\n",
    "H3K27ac_matrix = np.array(H3K27ac.X.todense().transpose())\n",
    "\n",
    "ATAC_var_name= []\n",
    "H3K27ac_var_name = []\n",
    "\n",
    "for i in range(len(df)):\n",
    "    ATAC_var_name.append('-'.join('%s'%i for i in df.iloc[i, 0:3]))\n",
    "    H3K27ac_var_name.append('-'.join('%s'%i for i in df.iloc[i, 3:6]))\n",
    "\n",
    "ATAC_index =  list(ATAC.var_names.get_indexer(ATAC_var_name))\n",
    "H3K27ac_index  =  list(H3K27ac.var_names.get_indexer(H3K27ac_var_name))\n",
    "\n",
    "new_matrix = np.hstack((ATAC_matrix[ATAC_index], H3K27ac_matrix[H3K27ac_index]))\n",
    "new_matrix[np.where(new_matrix != 0)] = 1\n",
    "\n",
    "new_matrix = scipy.sparse.csr_matrix(new_matrix)\n",
    "\n",
    "adata = ad.AnnData(new_matrix.transpose())\n",
    "adata.obs['batch'] = np.array(['0'] * ATAC.n_obs + ['1'] * H3K27ac.n_obs)\n",
    "adata.var['chr'] = index.loc[:, 0].values\n",
    "adata.var['start'] = index.loc[:, 'start'].values\n",
    "adata.var['end'] = index.loc[:, 'end'].values\n",
    "\n",
    "adata.obs.index = np.concatenate((ATAC.obs_names, H3K27ac.obs_names),axis=0)\n",
    "\n",
    "sc.write('/home/nas2/biod/machuanlong/data/integrate/integrate.h5ad', adata)"
   ]
  }
 ],
 "metadata": {
  "kernelspec": {
   "display_name": "base",
   "language": "python",
   "name": "python3"
  },
  "language_info": {
   "codemirror_mode": {
    "name": "ipython",
    "version": 3
   },
   "file_extension": ".py",
   "mimetype": "text/x-python",
   "name": "python",
   "nbconvert_exporter": "python",
   "pygments_lexer": "ipython3",
   "version": "3.11.0"
  }
 },
 "nbformat": 4,
 "nbformat_minor": 2
}

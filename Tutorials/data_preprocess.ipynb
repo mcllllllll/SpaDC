{
 "cells": [
  {
   "cell_type": "markdown",
   "metadata": {},
   "source": [
    "<h2> Get sequence <h2>"
   ]
  },
  {
   "cell_type": "code",
   "execution_count": 1,
   "metadata": {},
   "outputs": [],
   "source": [
    "import scanpy as sc\n",
    "import pandas as pd\n",
    "import numpy as np\n",
    "import SpaDC \n",
    "\n",
    "def chr_split(x):\n",
    "    chr_special = {'GL456233.1':'chrX_GL456233_random', 'GL456212.1':'chr1_GL456212_random', 'JH584304.1':'chrUn_JH584304', 'GL456216.1':'chr4_GL456216_random', 'JH584292.1':'chr4_JH584292_random', 'JH584295.1':'chr4_JH584295_random'}\n",
    "    chr, start, end = x.split('-')\n",
    "    if chr in chr_special:\n",
    "        chr = chr_special[chr]\n",
    "    return chr, start, end\n",
    "\n",
    "misar = sc.read_h5ad('/home/nas2/biod/machuanlong/data/MISAR_seq/MISAR_seq_mouse_E15_brain_ATAC_data.h5ad')\n",
    "ATAC = sc.read_h5ad('/home/nas2/biod/machuanlong/data/P22/ATAC/adata_peaks_normalized.h5ad')"
   ]
  },
  {
   "cell_type": "markdown",
   "metadata": {},
   "source": [
    "<h3> MISAR <h3>"
   ]
  },
  {
   "cell_type": "code",
   "execution_count": null,
   "metadata": {},
   "outputs": [],
   "source": [
    "index = misar.var_names\n",
    "index = pd.DataFrame(chr_split(x) for x in index)\n",
    "\n",
    "seq, _ = SpaDC.make_bed_seqs_from_df(index, '/home/nas2/biod/machuanlong/data/Genome/mm10.fa', 1344)\n",
    "\n",
    "file = open('/home/nas2/biod/machuanlong/data/MISAR_seq/seqs.txt','a')\n",
    "file.write('seq\\n')\n",
    "for i in range(len(seq)):\n",
    "    s = seq[i] + '\\n'\n",
    "    file.write(s)\n",
    "file.close()"
   ]
  },
  {
   "cell_type": "markdown",
   "metadata": {},
   "source": [
    "<h3> P22 <h3>"
   ]
  },
  {
   "cell_type": "code",
   "execution_count": null,
   "metadata": {},
   "outputs": [],
   "source": [
    "index = ATAC.var_names\n",
    "index = pd.DataFrame(chr_split(x) for x in index)\n",
    "\n",
    "seq, _ = SpaDC.make_bed_seqs_from_df(index, '/home/nas2/biod/machuanlong/data/Genome/mm10.fa', 1344)\n",
    "\n",
    "file = open('/home/nas2/biod/machuanlong/data/P22/ATAC/seqs.txt','a')\n",
    "file.write('seq\\n')\n",
    "for i in range(len(seq)):\n",
    "    s = seq[i] + '\\n'\n",
    "    file.write(s)\n",
    "file.close()"
   ]
  },
  {
   "cell_type": "markdown",
   "metadata": {},
   "source": [
    "<h2> Integrate <h2>"
   ]
  },
  {
   "cell_type": "code",
   "execution_count": 5,
   "metadata": {},
   "outputs": [],
   "source": [
    "H3K27ac = sc.read_h5ad('/home/nas2/biod/machuanlong/data/P22/H3K27ac/adata_peaks_normalized.h5ad')\n",
    "\n",
    "SpaDC.integrate_data(ATAC, H3K27ac, save_folder='/home/nas2/biod/machuanlong/data/integrate', fasta_file='/home/nas2/biod/machuanlong/data/Genome/mm10.fa', 1344)"
   ]
  }
 ],
 "metadata": {
  "kernelspec": {
   "display_name": "base",
   "language": "python",
   "name": "python3"
  },
  "language_info": {
   "codemirror_mode": {
    "name": "ipython",
    "version": 3
   },
   "file_extension": ".py",
   "mimetype": "text/x-python",
   "name": "python",
   "nbconvert_exporter": "python",
   "pygments_lexer": "ipython3",
   "version": "3.11.0"
  }
 },
 "nbformat": 4,
 "nbformat_minor": 2
}
